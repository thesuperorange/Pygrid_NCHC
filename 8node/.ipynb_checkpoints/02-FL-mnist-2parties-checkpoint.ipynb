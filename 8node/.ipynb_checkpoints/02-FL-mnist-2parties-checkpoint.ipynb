{
 "cells": [
  {
   "cell_type": "markdown",
   "metadata": {},
   "source": [
    "# Federated Learning - MNIST Example"
   ]
  },
  {
   "cell_type": "markdown",
   "metadata": {},
   "source": [
    "## Train a remote Deep Learning model\n",
    "In this notebbok, we will show how to train a Federated Deep Learning with data hosted in Nodes.\n",
    "\n",
    "We will consider that you are a Data Scientist and you do not know where data lives, you only have access to GridNetwork"
   ]
  },
  {
   "cell_type": "markdown",
   "metadata": {},
   "source": [
    "## 0 - Previous setup\n",
    "\n",
    "Components:\n",
    "\n",
    " - PyGrid Network      203.145.218.196:80\n",
    " - PyGrid Node Alice ( http://alice.libthomas.org:80)\n",
    " - PyGrid Node Bob   (http://bob.libthomas.org:80)\n",
    "\n",
    "This tutorial assumes that these components are running in background. See [instructions](https://github.com/OpenMined/PyGrid/tree/dev/examples#how-to-run-this-tutorial) for more details."
   ]
  },
  {
   "cell_type": "markdown",
   "metadata": {},
   "source": [
    "### Import dependencies\n",
    "Here we import core dependencies"
   ]
  },
  {
   "cell_type": "code",
   "execution_count": 1,
   "metadata": {},
   "outputs": [
    {
     "name": "stderr",
     "output_type": "stream",
     "text": [
      "Falling back to insecure randomness since the required custom op could not be found for the installed version of TensorFlow. Fix this by compiling custom ops. Missing file was '/opt/conda/lib/python3.7/site-packages/tf_encrypted/operations/secure_random/secure_random_module_tf_1.15.3.so'\n"
     ]
    },
    {
     "name": "stdout",
     "output_type": "stream",
     "text": [
      "WARNING:tensorflow:From /opt/conda/lib/python3.7/site-packages/tf_encrypted/session.py:24: The name tf.Session is deprecated. Please use tf.compat.v1.Session instead.\n",
      "\n"
     ]
    }
   ],
   "source": [
    "import time\n",
    "import syft as sy\n",
    "from syft.grid.public_grid import PublicGridNetwork\n",
    "\n",
    "import torch \n",
    "\n",
    "import torch.nn as nn\n",
    "import torch.optim as optim\n",
    "#from syft.federated.floptimizer import Optims\n",
    "import torch.nn.functional as F\n",
    "\n",
    "import torchvision\n",
    "from torchvision import datasets, transforms\n"
   ]
  },
  {
   "cell_type": "markdown",
   "metadata": {},
   "source": [
    "### Syft and client configuration\n",
    "Now we hook Torch and connect to the GridNetwork. This is the only sever you do not need to know node addresses (networks knows), but lets first define some useful parameters"
   ]
  },
  {
   "cell_type": "code",
   "execution_count": 2,
   "metadata": {
    "tags": [
     "parameters"
    ]
   },
   "outputs": [],
   "source": [
    "grid_address = \"http://203.145.221.20:80\"  # address\n",
    "N_EPOCHS = 100# number of epochs to train\n",
    "N_TEST   = 128   # number of test\n",
    "parties = 2\n",
    "TAG_NAME = str(parties)+\"data\"\n"
   ]
  },
  {
   "cell_type": "code",
   "execution_count": 3,
   "metadata": {
    "tags": [
     "parameters"
    ]
   },
   "outputs": [],
   "source": [
    "hook = sy.TorchHook(torch)\n",
    "\n",
    "\n",
    "# Connect direcly to grid nodes\n",
    "my_grid = PublicGridNetwork(hook, grid_address)"
   ]
  },
  {
   "cell_type": "markdown",
   "metadata": {},
   "source": [
    "## 1 - Define our Neural Network Arquitecture"
   ]
  },
  {
   "cell_type": "markdown",
   "metadata": {},
   "source": [
    "Now we will define a Deep Learning Network, feel free to write your own model!"
   ]
  },
  {
   "cell_type": "code",
   "execution_count": 4,
   "metadata": {},
   "outputs": [],
   "source": [
    "class Arguments():\n",
    "    def __init__(self):\n",
    "        self.test_batch_size = N_TEST\n",
    "        self.epochs = N_EPOCHS\n",
    "        self.lr = 0.01\n",
    "        self.log_interval = 5\n",
    "        #self.device = th.device(\"cpu\")\n",
    "        \n",
    "args = Arguments()"
   ]
  },
  {
   "cell_type": "code",
   "execution_count": 5,
   "metadata": {},
   "outputs": [],
   "source": [
    "class Net(nn.Module):\n",
    "    def __init__(self):\n",
    "        super(Net, self).__init__()\n",
    "        self.conv1 = nn.Conv2d(1, 32, 3, 1)\n",
    "        #self.conv2 = nn.Conv2d(32, 64, 3, 1)\n",
    "        #self.dropout1 = nn.Dropout(0.25)\n",
    "        #self.dropout2 = nn.Dropout(0.5)\n",
    "        self.fc1 = nn.Linear(5408, 256)\n",
    "        self.fc2 = nn.Linear(256, 10)\n",
    "\n",
    "    def forward(self, x):\n",
    "        #print(x.size())\n",
    "        x = self.conv1(x)        \n",
    "        x = F.relu(x)        \n",
    "        #x = self.conv2(x)\n",
    "        #x = F.relu(x)\n",
    "        x = F.max_pool2d(x, 2)        \n",
    "        #x = self.dropout1(x)\n",
    "        x = torch.flatten(x, 1)        \n",
    "        x = self.fc1(x)        \n",
    "        x = F.relu(x)\n",
    "        #x = self.dropout2(x)\n",
    "        x = self.fc2(x)\n",
    "        output = F.log_softmax(x, dim=1)\n",
    "        return output\n",
    "\n",
    "\n",
    "# class Net(nn.Module):\n",
    "#     def __init__(self):\n",
    "#         super(Net, self).__init__()\n",
    "#         self.conv1 = nn.Conv2d(3, 20, 5, 1)\n",
    "#         self.conv2 = nn.Conv2d(20, 50, 5, 1)\n",
    "#         self.fc1 = nn.Linear(5*5*50, 500)\n",
    "#         self.fc2 = nn.Linear(500, 10)\n",
    "\n",
    "#     def forward(self, x):\n",
    "       \n",
    "#         x = F.max_pool2d(x, 8, 8)       \n",
    "#         x = F.relu(self.conv1(x))        \n",
    "#         x = F.max_pool2d(x, 2, 2)        \n",
    "#         x = F.relu(self.conv2(x))        \n",
    "#         x = F.max_pool2d(x, 2, 2)        \n",
    "#         #x = x.view(-1, 4*4*50)\n",
    "#         x = x.view(-1, 5*5*50)\n",
    "#         x = F.relu(self.fc1(x))\n",
    "#         x = self.fc2(x)\n",
    "#         return F.log_softmax(x, dim=1)\n",
    "    \n",
    "    \n",
    "\n",
    "# class Net(nn.Module):\n",
    "#     def __init__(self):\n",
    "#         super(Net, self).__init__()\n",
    "#         self.conv1 = nn.Conv2d(1, 20, 5, 1)\n",
    "#         self.conv2 = nn.Conv2d(20, 50, 5, 1)\n",
    "#         self.fc1 = nn.Linear(4*4*50, 500)\n",
    "#         self.fc2 = nn.Linear(500, 10)\n",
    "\n",
    "#     def forward(self, x):\n",
    "#         x = F.relu(self.conv1(x))\n",
    "#         x = F.max_pool2d(x, 2, 2)\n",
    "#         x = F.relu(self.conv2(x))\n",
    "#         x = F.max_pool2d(x, 2, 2)\n",
    "#         x = x.view(-1, 4*4*50)\n",
    "#         x = F.relu(self.fc1(x))\n",
    "#         x = self.fc2(x)\n",
    "#         return F.log_softmax(x, dim=1)\n",
    "\n",
    "\n",
    "\n"
   ]
  },
  {
   "cell_type": "code",
   "execution_count": 6,
   "metadata": {},
   "outputs": [],
   "source": [
    "#device = torch.device(\"cpu\")\n",
    "\n",
    "device = torch.device(\"cuda\" if torch.cuda.is_available() else \"cpu\")\n",
    "#device=[th.device(\"cuda:2\"),th.device(\"cuda:3\")]"
   ]
  },
  {
   "cell_type": "code",
   "execution_count": 7,
   "metadata": {},
   "outputs": [
    {
     "data": {
      "text/plain": [
       "Net(\n",
       "  (conv1): Conv2d(1, 32, kernel_size=(3, 3), stride=(1, 1))\n",
       "  (fc1): Linear(in_features=5408, out_features=256, bias=True)\n",
       "  (fc2): Linear(in_features=256, out_features=10, bias=True)\n",
       ")"
      ]
     },
     "execution_count": 7,
     "metadata": {},
     "output_type": "execute_result"
    }
   ],
   "source": [
    "# if(torch.cuda.is_available()):\n",
    "#     torch.set_default_tensor_type(th.cuda.FloatTensor)\n",
    "model = Net()\n",
    "model.to(device)\n",
    "\n",
    "\n",
    "\n",
    "#optimizer = optim.SGD(model.parameters(), lr=0.01)"
   ]
  },
  {
   "cell_type": "code",
   "execution_count": 8,
   "metadata": {},
   "outputs": [],
   "source": [
    "node_name = [\"gridnode01\",\"gridnode02\",\"gridnode03\",\"gridnode04\",\"gridnode05\",\"gridnode06\",\"gridnode07\",\"gridnode08\"]\n"
   ]
  },
  {
   "cell_type": "code",
   "execution_count": 9,
   "metadata": {},
   "outputs": [],
   "source": [
    "from syft.federated.floptimizer import Optims\n",
    "\n",
    "workers =node_name[:parties]\n",
    "optims = Optims(workers, optim=optim.Adam(params=model.parameters(),lr=args.lr))"
   ]
  },
  {
   "cell_type": "code",
   "execution_count": 10,
   "metadata": {},
   "outputs": [
    {
     "name": "stdout",
     "output_type": "stream",
     "text": [
      "cuda\n"
     ]
    }
   ],
   "source": [
    "print(device)"
   ]
  },
  {
   "cell_type": "markdown",
   "metadata": {},
   "source": [
    "## 2 - Search for remote data\n",
    "\n",
    "Once we have defined our Deep Learning Network, we need some data to train... Thanks to PyGridNetwork this is very easy, you just need to search for your tags of interest.\n",
    "\n",
    "Notice that _search()_ method  returns a pointer tensor, so we will work with those keeping real tensors hosted in Alice and Bob"
   ]
  },
  {
   "cell_type": "code",
   "execution_count": 15,
   "metadata": {},
   "outputs": [],
   "source": [
    "data = my_grid.search(\"#X_\"+TAG_NAME)  # images\n",
    "target = my_grid.search(\"#Y_\"+TAG_NAME)  # labels\n",
    "\n",
    "data = list(data.values())  # returns a pointer\n",
    "target = list(target.values())  # returns a pointer"
   ]
  },
  {
   "cell_type": "code",
   "execution_count": 16,
   "metadata": {},
   "outputs": [
    {
     "data": {
      "text/plain": [
       "'2data'"
      ]
     },
     "execution_count": 16,
     "metadata": {},
     "output_type": "execute_result"
    }
   ],
   "source": [
    "TAG_NAME"
   ]
  },
  {
   "cell_type": "markdown",
   "metadata": {},
   "source": [
    "If we print the tensors, we can check how the metadata we added before is included"
   ]
  },
  {
   "cell_type": "code",
   "execution_count": 17,
   "metadata": {},
   "outputs": [
    {
     "name": "stdout",
     "output_type": "stream",
     "text": [
      "[[(Wrapper)>[PointerTensor | me:842333708 -> gridnode01:60237076421]\n",
      "\tTags: #X_2data \n",
      "\tShape: torch.Size([10000, 1, 28, 28])\n",
      "\tDescription: input mnist datapoinsts split 2 parties...], [(Wrapper)>[PointerTensor | me:87627671103 -> gridnode02:3255094592]\n",
      "\tTags: #X_2data \n",
      "\tShape: torch.Size([10000, 1, 28, 28])\n",
      "\tDescription: input mnist datapoinsts split 2 parties...]]\n",
      "[[(Wrapper)>[PointerTensor | me:74979498096 -> gridnode01:17222174175]\n",
      "\tTags: #Y_2data \n",
      "\tShape: torch.Size([10000])\n",
      "\tDescription: input mnist labels split 2 parties...], [(Wrapper)>[PointerTensor | me:1249513066 -> gridnode02:91304767541]\n",
      "\tTags: #Y_2data \n",
      "\tShape: torch.Size([10000])\n",
      "\tDescription: input mnist labels split 2 parties...]]\n"
     ]
    }
   ],
   "source": [
    "print(data)\n",
    "print(target)"
   ]
  },
  {
   "cell_type": "code",
   "execution_count": 16,
   "metadata": {},
   "outputs": [
    {
     "ename": "KeyError",
     "evalue": "0",
     "output_type": "error",
     "traceback": [
      "\u001b[0;31m---------------------------------------------------------------------------\u001b[0m",
      "\u001b[0;31mKeyError\u001b[0m                                  Traceback (most recent call last)",
      "\u001b[0;32m<ipython-input-16-c6c65f884163>\u001b[0m in \u001b[0;36m<module>\u001b[0;34m\u001b[0m\n\u001b[0;32m----> 1\u001b[0;31m \u001b[0mdata\u001b[0m\u001b[0;34m[\u001b[0m\u001b[0;36m0\u001b[0m\u001b[0;34m]\u001b[0m\u001b[0;34m[\u001b[0m\u001b[0;36m0\u001b[0m\u001b[0;34m]\u001b[0m\u001b[0;34m\u001b[0m\u001b[0;34m\u001b[0m\u001b[0m\n\u001b[0m",
      "\u001b[0;31mKeyError\u001b[0m: 0"
     ]
    }
   ],
   "source": [
    "data[0][0]"
   ]
  },
  {
   "cell_type": "code",
   "execution_count": 12,
   "metadata": {},
   "outputs": [
    {
     "data": {
      "text/plain": [
       "<Federated Worker id:gridnode02>"
      ]
     },
     "execution_count": 12,
     "metadata": {},
     "output_type": "execute_result"
    }
   ],
   "source": [
    "worker = data[1][0].location\n",
    "worker"
   ]
  },
  {
   "cell_type": "markdown",
   "metadata": {},
   "source": [
    "## 3 - Train the model"
   ]
  },
  {
   "cell_type": "markdown",
   "metadata": {},
   "source": [
    "Now we are ready to train. As you will see, this is very similar to standard pytorch sintax.\n",
    "\n",
    "Let's first load test data in order to evaluate the model"
   ]
  },
  {
   "cell_type": "code",
   "execution_count": 18,
   "metadata": {},
   "outputs": [],
   "source": [
    "from mnist_loader import read_mnist_data\n",
    "BATCH_SIZE = 128\n",
    "# train_loader_x = []\n",
    "# train_loader_y = []\n",
    "\n",
    "# parties = 2\n",
    "# for idx in range(parties): \n",
    "npz_path = '../'+str(parties)+'Parties/data_party0.npz'\n",
    "mnist_train_loader,mnist_test_loader = read_mnist_data(npz_path, batch = BATCH_SIZE )\n",
    "    \n",
    "    \n",
    "#     dataiter = iter(mnist_train_loader)\n",
    "#     images_train_mnist, labels_train_mnist = dataiter.next()\n",
    "    \n",
    "    \n",
    "#     images_train_mnist = images_train_mnist.to(device)\n",
    "#     labels_train_mnist = labels_train_mnist.to(device)\n",
    "    \n",
    "#     train_loader_x.append(images_train_mnist)\n",
    "#     train_loader_y.append(labels_train_mnist)\n",
    "\n",
    "\n"
   ]
  },
  {
   "cell_type": "code",
   "execution_count": 19,
   "metadata": {},
   "outputs": [],
   "source": [
    "# epoch size\n",
    "def epoch_total_size(data):\n",
    "    total = 0\n",
    "    for i in range(len(data)):\n",
    "        for j in range(len(data[i])):\n",
    "            total += data[i][j].shape[0]\n",
    "            \n",
    "    return total"
   ]
  },
  {
   "cell_type": "code",
   "execution_count": 20,
   "metadata": {},
   "outputs": [
    {
     "name": "stdout",
     "output_type": "stream",
     "text": [
      "0, 0 : 10000 10000\n",
      "1, 0 : 10000 10000\n"
     ]
    }
   ],
   "source": [
    "for i in range(len(data)):\n",
    "    for j in range(len(data[i])):\n",
    "        print(\"{}, {} : {} {}\".format(i,j, len(data[i][j]), len(target[i][j])))\n",
    "        "
   ]
  },
  {
   "cell_type": "code",
   "execution_count": 21,
   "metadata": {},
   "outputs": [],
   "source": [
    "\n",
    "       \n",
    "            \n",
    "def train(args):\n",
    "    \n",
    "    model.train()\n",
    "    epoch_total = epoch_total_size(data)    \n",
    "    current_epoch_size = 0\n",
    "    for i in range(len(data)):\n",
    "        for j in range(len(data[i])):\n",
    "            \n",
    "            current_epoch_size += len(data[i][j])\n",
    "            worker = data[i][j].location  # worker hosts data\n",
    "            \n",
    "            model.send(worker)  # send model to PyGridNode worker\n",
    "            \n",
    "            optimizer = optims.get_optim(worker.id)\n",
    "            optimizer.zero_grad()  \n",
    "            \n",
    "            \n",
    "            pred = model(data[i][j])\n",
    "            #print(pred)\n",
    "            loss = F.nll_loss(pred, target[i][j])\n",
    "            loss.backward()\n",
    "            \n",
    "            optimizer.step()\n",
    "            model.get()  # get back the model\n",
    "            \n",
    "            loss = loss.get()\n",
    "            \n",
    "        if epoch % args.log_interval == 0:\n",
    "\n",
    "            print('Train Epoch: {} | With {} data |: [{}/{} ({:.0f}%)]\\tLoss: {:.6f}'.format(\n",
    "                      epoch, worker.id, current_epoch_size, epoch_total,\n",
    "                            100. *  current_epoch_size / epoch_total, loss.item()))\n",
    "\n"
   ]
  },
  {
   "cell_type": "code",
   "execution_count": 22,
   "metadata": {},
   "outputs": [],
   "source": [
    "\n",
    "def test(args,fo,train_time):\n",
    "    \n",
    "    if epoch % args.log_interval == 0 :\n",
    "    \n",
    "        model.eval()\n",
    "        test_loss = 0\n",
    "        correct = 0\n",
    "        with torch.no_grad():\n",
    "            for data, target in mnist_test_loader:\n",
    "                data, target = data.to(device), target.to(device)\n",
    "                output = model(data)\n",
    "                test_loss += F.nll_loss(output, target, reduction='sum').item() # sum up batch loss\n",
    "                pred = output.argmax(1, keepdim=True) # get the index of the max log-probability \n",
    "                correct += pred.eq(target.view_as(pred)).sum().item()\n",
    "\n",
    "        test_loss /= len(mnist_test_loader.dataset)\n",
    "        \n",
    "        fo.write(\"{},{:.4f},{:.0f},{:.4f}\\n\".format(epoch, test_loss,100. * correct / len(mnist_test_loader.dataset),train_time))\n",
    "\n",
    "\n",
    "        print('\\nTest set: Average loss: {:.4f}, Accuracy: {}/{} ({:.0f}%)\\n'.format(\n",
    "            test_loss, correct, len(mnist_test_loader.dataset),\n",
    "            100. * correct / len(mnist_test_loader.dataset)))"
   ]
  },
  {
   "cell_type": "code",
   "execution_count": 23,
   "metadata": {},
   "outputs": [
    {
     "name": "stdout",
     "output_type": "stream",
     "text": [
      "Train Epoch: 0 | With gridnode01 data |: [10000/20000 (50%)]\tLoss: 2.309810\n",
      "Train Epoch: 0 | With gridnode02 data |: [20000/20000 (100%)]\tLoss: 3.300362\n",
      "\n",
      "Test set: Average loss: 7.2145, Accuracy: 769/5000 (15%)\n",
      "\n",
      "Train Epoch: 5 | With gridnode01 data |: [10000/20000 (50%)]\tLoss: 1.285427\n",
      "Train Epoch: 5 | With gridnode02 data |: [20000/20000 (100%)]\tLoss: 1.393540\n",
      "\n",
      "Test set: Average loss: 0.9933, Accuracy: 3446/5000 (69%)\n",
      "\n",
      "Train Epoch: 10 | With gridnode01 data |: [10000/20000 (50%)]\tLoss: 0.503646\n",
      "Train Epoch: 10 | With gridnode02 data |: [20000/20000 (100%)]\tLoss: 0.530099\n",
      "\n",
      "Test set: Average loss: 0.4682, Accuracy: 4213/5000 (84%)\n",
      "\n",
      "Train Epoch: 15 | With gridnode01 data |: [10000/20000 (50%)]\tLoss: 0.495858\n",
      "Train Epoch: 15 | With gridnode02 data |: [20000/20000 (100%)]\tLoss: 0.468095\n",
      "\n",
      "Test set: Average loss: 0.4267, Accuracy: 4319/5000 (86%)\n",
      "\n",
      "Train Epoch: 20 | With gridnode01 data |: [10000/20000 (50%)]\tLoss: 0.413397\n",
      "Train Epoch: 20 | With gridnode02 data |: [20000/20000 (100%)]\tLoss: 0.522450\n",
      "\n",
      "Test set: Average loss: 0.4052, Accuracy: 4349/5000 (87%)\n",
      "\n",
      "Train Epoch: 25 | With gridnode01 data |: [10000/20000 (50%)]\tLoss: 0.435343\n",
      "Train Epoch: 25 | With gridnode02 data |: [20000/20000 (100%)]\tLoss: 0.480741\n",
      "\n",
      "Test set: Average loss: 0.4073, Accuracy: 4310/5000 (86%)\n",
      "\n",
      "Train Epoch: 30 | With gridnode01 data |: [10000/20000 (50%)]\tLoss: 0.377757\n",
      "Train Epoch: 30 | With gridnode02 data |: [20000/20000 (100%)]\tLoss: 0.458569\n",
      "\n",
      "Test set: Average loss: 0.3735, Accuracy: 4372/5000 (87%)\n",
      "\n",
      "Train Epoch: 35 | With gridnode01 data |: [10000/20000 (50%)]\tLoss: 0.358161\n",
      "Train Epoch: 35 | With gridnode02 data |: [20000/20000 (100%)]\tLoss: 0.391958\n",
      "\n",
      "Test set: Average loss: 0.3510, Accuracy: 4442/5000 (89%)\n",
      "\n",
      "Train Epoch: 40 | With gridnode01 data |: [10000/20000 (50%)]\tLoss: 0.288651\n",
      "Train Epoch: 40 | With gridnode02 data |: [20000/20000 (100%)]\tLoss: 0.321819\n",
      "\n",
      "Test set: Average loss: 0.2881, Accuracy: 4543/5000 (91%)\n",
      "\n",
      "Train Epoch: 45 | With gridnode01 data |: [10000/20000 (50%)]\tLoss: 0.223255\n",
      "Train Epoch: 45 | With gridnode02 data |: [20000/20000 (100%)]\tLoss: 0.233688\n",
      "\n",
      "Test set: Average loss: 0.2289, Accuracy: 4641/5000 (93%)\n",
      "\n",
      "Train Epoch: 50 | With gridnode01 data |: [10000/20000 (50%)]\tLoss: 0.192271\n",
      "Train Epoch: 50 | With gridnode02 data |: [20000/20000 (100%)]\tLoss: 0.199241\n",
      "\n",
      "Test set: Average loss: 0.2087, Accuracy: 4683/5000 (94%)\n",
      "\n",
      "Train Epoch: 55 | With gridnode01 data |: [10000/20000 (50%)]\tLoss: 0.191269\n",
      "Train Epoch: 55 | With gridnode02 data |: [20000/20000 (100%)]\tLoss: 0.212975\n",
      "\n",
      "Test set: Average loss: 0.2252, Accuracy: 4639/5000 (93%)\n",
      "\n",
      "Train Epoch: 60 | With gridnode01 data |: [10000/20000 (50%)]\tLoss: 0.218386\n",
      "Train Epoch: 60 | With gridnode02 data |: [20000/20000 (100%)]\tLoss: 0.249871\n",
      "\n",
      "Test set: Average loss: 0.2574, Accuracy: 4584/5000 (92%)\n",
      "\n",
      "Train Epoch: 65 | With gridnode01 data |: [10000/20000 (50%)]\tLoss: 0.253988\n",
      "Train Epoch: 65 | With gridnode02 data |: [20000/20000 (100%)]\tLoss: 0.295443\n",
      "\n",
      "Test set: Average loss: 0.2959, Accuracy: 4523/5000 (90%)\n",
      "\n",
      "Train Epoch: 70 | With gridnode01 data |: [10000/20000 (50%)]\tLoss: 0.268786\n",
      "Train Epoch: 70 | With gridnode02 data |: [20000/20000 (100%)]\tLoss: 0.312798\n",
      "\n",
      "Test set: Average loss: 0.3108, Accuracy: 4504/5000 (90%)\n",
      "\n",
      "Train Epoch: 75 | With gridnode01 data |: [10000/20000 (50%)]\tLoss: 0.254476\n",
      "Train Epoch: 75 | With gridnode02 data |: [20000/20000 (100%)]\tLoss: 0.299248\n",
      "\n",
      "Test set: Average loss: 0.3030, Accuracy: 4543/5000 (91%)\n",
      "\n",
      "Train Epoch: 80 | With gridnode01 data |: [10000/20000 (50%)]\tLoss: 0.222086\n",
      "Train Epoch: 80 | With gridnode02 data |: [20000/20000 (100%)]\tLoss: 0.258388\n",
      "\n",
      "Test set: Average loss: 0.2770, Accuracy: 4585/5000 (92%)\n",
      "\n",
      "Train Epoch: 85 | With gridnode01 data |: [10000/20000 (50%)]\tLoss: 0.184409\n",
      "Train Epoch: 85 | With gridnode02 data |: [20000/20000 (100%)]\tLoss: 0.218795\n",
      "\n",
      "Test set: Average loss: 0.2500, Accuracy: 4627/5000 (93%)\n",
      "\n",
      "Train Epoch: 90 | With gridnode01 data |: [10000/20000 (50%)]\tLoss: 0.195458\n",
      "Train Epoch: 90 | With gridnode02 data |: [20000/20000 (100%)]\tLoss: 0.221059\n",
      "\n",
      "Test set: Average loss: 0.2812, Accuracy: 4579/5000 (92%)\n",
      "\n",
      "Train Epoch: 95 | With gridnode01 data |: [10000/20000 (50%)]\tLoss: 0.265274\n",
      "Train Epoch: 95 | With gridnode02 data |: [20000/20000 (100%)]\tLoss: 0.309723\n",
      "\n",
      "Test set: Average loss: 0.3522, Accuracy: 4504/5000 (90%)\n",
      "\n",
      "CPU times: user 22.2 s, sys: 5.03 s, total: 27.2 s\n",
      "Wall time: 55.9 s\n"
     ]
    }
   ],
   "source": [
    "%%time\n",
    "#scheduler = StepLR(optimizer, step_size=1, gamma=GAMMA) \n",
    "output_file_name = TAG_NAME+'.csv'\n",
    "fo = open(\"output/\"+output_file_name, \"w\")\n",
    "\n",
    "\n",
    "\n",
    "last_time = time.time()\n",
    "for epoch in range(N_EPOCHS):\n",
    "    \n",
    "    train(args)\n",
    "    if epoch % args.log_interval == 0 :\n",
    "        train_time = time.time()-last_time\n",
    "        #last_time = time.time()\n",
    "    \n",
    "    \n",
    "    \n",
    "    test(args,fo,train_time)\n",
    "    \n",
    "\n",
    "    #scheduler.step()\n",
    "fo.close()"
   ]
  },
  {
   "cell_type": "code",
   "execution_count": 96,
   "metadata": {},
   "outputs": [
    {
     "data": {
      "text/plain": [
       "[3.085176467895508,\n",
       " 2.0168557167053223,\n",
       " 2.099081516265869,\n",
       " 2.2476980686187744,\n",
       " 2.1013503074645996,\n",
       " 2.327033281326294,\n",
       " 2.2596659660339355,\n",
       " 2.092620372772217,\n",
       " 2.1120617389678955,\n",
       " 2.1189212799072266,\n",
       " 2.115156888961792,\n",
       " 2.345344066619873,\n",
       " 2.1377415657043457,\n",
       " 2.103492259979248,\n",
       " 2.083632230758667,\n",
       " 2.0034444332122803,\n",
       " 2.028259754180908,\n",
       " 2.1424574851989746,\n",
       " 2.124450922012329,\n",
       " 2.5703017711639404,\n",
       " 2.134547472000122,\n",
       " 2.1604089736938477,\n",
       " 2.352508544921875,\n",
       " 2.1624834537506104,\n",
       " 2.1588916778564453,\n",
       " 2.173997640609741,\n",
       " 2.170542001724243,\n",
       " 2.3766140937805176,\n",
       " 2.15191912651062,\n",
       " 2.3449435234069824,\n",
       " 2.1736886501312256,\n",
       " 2.39962100982666,\n",
       " 2.123897075653076,\n",
       " 2.130331039428711,\n",
       " 2.3907113075256348,\n",
       " 2.1283161640167236,\n",
       " 3.1578798294067383,\n",
       " 2.378300666809082,\n",
       " 2.4131999015808105,\n",
       " 2.5599417686462402,\n",
       " 3.0253121852874756,\n",
       " 2.1754791736602783,\n",
       " 2.541701316833496,\n",
       " 2.641529083251953,\n",
       " 2.183387517929077,\n",
       " 2.3400638103485107,\n",
       " 2.1240601539611816,\n",
       " 2.159345865249634,\n",
       " 2.4449028968811035,\n",
       " 2.1882288455963135,\n",
       " 2.4307820796966553,\n",
       " 2.5478599071502686,\n",
       " 2.6318445205688477,\n",
       " 2.4636030197143555,\n",
       " 2.321357250213623,\n",
       " 2.2804644107818604,\n",
       " 2.2907721996307373,\n",
       " 2.0162112712860107,\n",
       " 2.171827793121338,\n",
       " 2.5031120777130127,\n",
       " 2.5993847846984863,\n",
       " 2.1622490882873535,\n",
       " 2.3712258338928223,\n",
       " 2.1943416595458984,\n",
       " 2.1254215240478516,\n",
       " 2.360196590423584,\n",
       " 2.125067949295044,\n",
       " 2.3289835453033447,\n",
       " 2.2971696853637695,\n",
       " 2.8006417751312256,\n",
       " 2.5070512294769287,\n",
       " 2.4381654262542725,\n",
       " 2.418067455291748,\n",
       " 2.3870441913604736,\n",
       " 2.386326789855957,\n",
       " 2.1243484020233154,\n",
       " 2.174132823944092,\n",
       " 2.461879014968872,\n",
       " 2.186328411102295,\n",
       " 2.2029500007629395,\n",
       " 2.2101218700408936,\n",
       " 2.3509769439697266,\n",
       " 2.1986045837402344,\n",
       " 2.098754405975342,\n",
       " 2.1264727115631104,\n",
       " 2.1554291248321533,\n",
       " 2.3619236946105957,\n",
       " 2.1488537788391113,\n",
       " 2.1520836353302,\n",
       " 2.171715497970581,\n",
       " 2.1875290870666504,\n",
       " 2.451674461364746,\n",
       " 2.1814916133880615,\n",
       " 2.165618658065796,\n",
       " 2.1162893772125244,\n",
       " 2.310572385787964,\n",
       " 2.1873300075531006,\n",
       " 2.14067006111145,\n",
       " 2.1613614559173584,\n",
       " 2.466928482055664]"
      ]
     },
     "execution_count": 96,
     "metadata": {},
     "output_type": "execute_result"
    }
   ],
   "source": [
    "t_train_hist"
   ]
  },
  {
   "cell_type": "code",
   "execution_count": null,
   "metadata": {},
   "outputs": [],
   "source": []
  },
  {
   "cell_type": "markdown",
   "metadata": {},
   "source": [
    "Et voilà! Here you are, you have trained a model on remote data using Federated Learning!"
   ]
  },
  {
   "cell_type": "markdown",
   "metadata": {},
   "source": [
    "# Congratulations!!! - Time to Join the Community!\n",
    "\n",
    "Congratulations on completing this notebook tutorial! If you enjoyed this and would like to join the movement toward privacy preserving, decentralized ownership of AI and the AI supply chain (data), you can do so in the following ways!\n",
    "\n",
    "### Star PyGrid on GitHub\n",
    "\n",
    "The easiest way to help our community is just by starring the GitHub repos! This helps raise awareness of the cool tools we're building.\n",
    "\n",
    "- [Star PyGrid](https://github.com/OpenMined/PyGrid)\n",
    "\n",
    "### Join our Slack!\n",
    "\n",
    "The best way to keep up to date on the latest advancements is to join our community! You can do so by filling out the form at [http://slack.openmined.org](http://slack.openmined.org)\n",
    "\n",
    "### Join a Code Project!\n",
    "\n",
    "The best way to contribute to our community is to become a code contributor! At any time you can go to PySyft GitHub Issues page and filter for \"Projects\". This will show you all the top level Tickets giving an overview of what projects you can join! If you don't want to join a project, but you would like to do a bit of coding, you can also look for more \"one off\" mini-projects by searching for GitHub issues marked \"good first issue\".\n",
    "\n",
    "- [PySyft Projects](https://github.com/OpenMined/PySyft/issues?q=is%3Aopen+is%3Aissue+label%3AProject)\n",
    "- [Good First Issue Tickets](https://github.com/OpenMined/PyGrid/issues?q=is%3Aopen+is%3Aissue+label%3A%22good+first+issue%22)\n",
    "\n",
    "### Donate\n",
    "\n",
    "If you don't have time to contribute to our codebase, but would still like to lend support, you can also become a Backer on our Open Collective. All donations go toward our web hosting and other community expenses such as hackathons and meetups!\n",
    "\n",
    "[OpenMined's Open Collective Page](https://opencollective.com/openmined)"
   ]
  }
 ],
 "metadata": {
  "kernelspec": {
   "display_name": "Python 3",
   "language": "python",
   "name": "python3"
  },
  "language_info": {
   "codemirror_mode": {
    "name": "ipython",
    "version": 3
   },
   "file_extension": ".py",
   "mimetype": "text/x-python",
   "name": "python",
   "nbconvert_exporter": "python",
   "pygments_lexer": "ipython3",
   "version": "3.7.6"
  }
 },
 "nbformat": 4,
 "nbformat_minor": 4
}
